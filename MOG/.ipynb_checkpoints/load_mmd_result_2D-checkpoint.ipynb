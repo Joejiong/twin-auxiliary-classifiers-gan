{
 "cells": [
  {
   "cell_type": "code",
   "execution_count": 1,
   "metadata": {},
   "outputs": [],
   "source": [
    "import os\n",
    "import numpy as np\n",
    "\n",
    "path = './2_D_experiment/'\n",
    "experiment = ['experiment1','experiment2','experiment3','experiment4','experiment5']\n",
    "\n",
    "distance = [1.0,1.5,2.0,2.5,3.0,3.5,4.0,4.5,5.0]"
   ]
  },
  {
   "cell_type": "code",
   "execution_count": 2,
   "metadata": {},
   "outputs": [],
   "source": [
    "results = []\n",
    "\n",
    "for experiment_name in experiment:\n",
    "    result = []\n",
    "    for gap in distance:\n",
    "        file = open(os.path.join(path,experiment_name,str(gap)+'_2D','result.text'),'r')\n",
    "        result.append(file.readlines())\n",
    "    results.append(result)"
   ]
  },
  {
   "cell_type": "code",
   "execution_count": 3,
   "metadata": {},
   "outputs": [
    {
     "name": "stdout",
     "output_type": "stream",
     "text": [
      "(5, 9, 4, 2)\n",
      "(9, 4, 2)\n"
     ]
    }
   ],
   "source": [
    "kid_twin_ac_gap = []\n",
    "for rels in results:\n",
    "    kid_twin_ac = []\n",
    "    for gap in rels:\n",
    "        class_twin_ac = []\n",
    "        for class_gap in gap[:4]:\n",
    "            mean,std = class_gap.strip('\\n').split(',')\n",
    "            mean, std = float(mean), float(std)\n",
    "            class_twin_ac.append([mean,std])\n",
    "        kid_twin_ac.append(class_twin_ac)\n",
    "    kid_twin_ac_gap.append(kid_twin_ac)\n",
    "    \n",
    "kid_twin_ac_gap = np.asarray(kid_twin_ac_gap)\n",
    "print(kid_twin_ac_gap.shape)\n",
    "kid_twin_ac_gap = kid_twin_ac_gap.mean(axis=0)\n",
    "print(kid_twin_ac_gap.shape)\n",
    "            \n",
    "        "
   ]
  },
  {
   "cell_type": "code",
   "execution_count": 4,
   "metadata": {},
   "outputs": [
    {
     "name": "stdout",
     "output_type": "stream",
     "text": [
      "(5, 9, 4, 2)\n",
      "(9, 4, 2)\n"
     ]
    }
   ],
   "source": [
    "kid_ac_gap = []\n",
    "for rels in results:\n",
    "    kid_ac = []\n",
    "    for gap in rels:\n",
    "        class_ac = []\n",
    "        for class_gap in gap[4:8]:\n",
    "            mean,std = class_gap.strip('\\n').split(',')\n",
    "            mean, std = float(mean), float(std)\n",
    "            class_ac.append([mean,std])\n",
    "        kid_ac.append(class_ac)\n",
    "    kid_ac_gap.append(kid_ac)\n",
    "    \n",
    "kid_ac_gap = np.asarray(kid_ac_gap)\n",
    "print(kid_ac_gap.shape)\n",
    "kid_ac_gap = kid_ac_gap.mean(axis=0)\n",
    "print(kid_ac_gap.shape)"
   ]
  },
  {
   "cell_type": "code",
   "execution_count": 5,
   "metadata": {},
   "outputs": [
    {
     "name": "stdout",
     "output_type": "stream",
     "text": [
      "(5, 9, 4, 2)\n",
      "(9, 4, 2)\n"
     ]
    }
   ],
   "source": [
    "kid_projection_gap = []\n",
    "for rels in results:\n",
    "    kid_projection = []\n",
    "    for gap in rels:\n",
    "        class_projection = []\n",
    "        for class_gap in gap[8:12]:\n",
    "            mean,std = class_gap.strip('\\n').split(',')\n",
    "            mean, std = float(mean), float(std)\n",
    "            class_projection.append([mean,std])\n",
    "        kid_projection.append(class_projection)\n",
    "    kid_projection_gap.append(kid_projection)\n",
    "    \n",
    "kid_projection_gap = np.asarray(kid_projection_gap)\n",
    "print(kid_projection_gap.shape)\n",
    "kid_projection_gap = kid_projection_gap.mean(axis=0)\n",
    "print(kid_projection_gap.shape)"
   ]
  },
  {
   "cell_type": "code",
   "execution_count": 6,
   "metadata": {},
   "outputs": [],
   "source": [
    "import matplotlib.pyplot as plt\n",
    "for class_ in range(4):\n",
    "    beingsaved = plt.figure()\n",
    "    plt.plot(distance,kid_twin_ac_gap[:,class_,0],'x-',label='TAC GAN')\n",
    "    plt.plot(distance,kid_ac_gap[:,class_,0],'o-',label='AC GAN')\n",
    "    plt.plot(distance,kid_projection_gap[:,class_,0],'*-',label='Projection GAN')\n",
    "    \n",
    "    plt.ylabel('KID Mean')\n",
    "    plt.xlabel('Dsitance')\n",
    "    \n",
    "    plt.legend()\n",
    "    beingsaved.savefig('1_D_'+str(class_)+'_mean.eps', format='eps')\n",
    "    \n",
    "for class_ in range(4):\n",
    "    beingsaved = plt.figure()\n",
    "    plt.plot(distance,kid_twin_ac_gap[:,class_,1],'x-',label='TAC GAN')\n",
    "    plt.plot(distance,kid_ac_gap[:,class_,1],'o-',label='AC GAN')\n",
    "    plt.plot(distance,kid_projection_gap[:,class_,1],'*-',label='Projection GAN')\n",
    "    \n",
    "    plt.ylabel('KID Std')\n",
    "    plt.xlabel('Dsitance')\n",
    "    \n",
    "    plt.legend()\n",
    "    beingsaved.savefig('1_D_'+str(class_)+'_std.eps', format='eps')"
   ]
  },
  {
   "cell_type": "code",
   "execution_count": null,
   "metadata": {},
   "outputs": [],
   "source": []
  }
 ],
 "metadata": {
  "kernelspec": {
   "display_name": "Python 3",
   "language": "python",
   "name": "python3"
  },
  "language_info": {
   "codemirror_mode": {
    "name": "ipython",
    "version": 3
   },
   "file_extension": ".py",
   "mimetype": "text/x-python",
   "name": "python",
   "nbconvert_exporter": "python",
   "pygments_lexer": "ipython3",
   "version": "3.6.8"
  }
 },
 "nbformat": 4,
 "nbformat_minor": 2
}
